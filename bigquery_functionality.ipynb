{
 "cells": [
  {
   "cell_type": "code",
   "execution_count": 29,
   "metadata": {},
   "outputs": [],
   "source": [
    "from google.cloud import bigquery\n",
    "import time\n",
    "import datetime as dt\n",
    "import random\n",
    "\n",
    "# Table schema\n",
    "table_schema = [\n",
    "    bigquery.SchemaField('time', 'DATETIME', mode='REQUIRED'),\n",
    "    bigquery.SchemaField('bid', 'FLOAT', mode='REQUIRED'),\n",
    "    bigquery.SchemaField('offer', 'FLOAT', mode='REQUIRED'),\n",
    "    bigquery.SchemaField('bid_depth', 'INTEGER', mode='NULLABLE'),\n",
    "    bigquery.SchemaField('offer_depth', 'INTEGER', mode='NULLABLE'),\n",
    "    bigquery.SchemaField('bid_depth_total', 'INTEGER', mode='NULLABLE'),\n",
    "    bigquery.SchemaField('appended', 'DATETIME', mode='REQUIRED'),\n",
    "]\n",
    "\n",
    "class BigQuerySession(object):\n",
    "    \"\"\"BigQuery session for a project.\"\"\"\n",
    "    \n",
    "    def __init__(self, CREDS_DIR, project_id='quantum-fusion-233713'):\n",
    "        self.client = bigquery.Client.from_service_account_json(CREDS_DIR)\n",
    "        self.project_id = project_id\n",
    "        \n",
    "    def create_table(self, table_name, schema, dataset_name='netfonds_data'):\n",
    "        \"\"\"Create new table in dataset.\n",
    "\n",
    "        Parameters:\n",
    "            dataset_name: str\n",
    "            client: google.cloud.bigquery.client.Client\n",
    "            schema: list of bigquery.SchemaField\n",
    "        \"\"\"\n",
    "        dataset_ref = self.client.dataset(dataset_name)\n",
    "        table_ref = dataset_ref.table(table_name)\n",
    "        table = bigquery.Table(table_ref, schema=schema)\n",
    "        table = self.client.create_table(table)  # API request\n",
    "\n",
    "        assert table.table_id == table_name\n",
    "        \n",
    "    def get_tables(self, dataset_name='netfonds_data'):\n",
    "        query_job = self.client.query(\"\"\"\n",
    "            SELECT *\n",
    "            FROM `{}.{}.__TABLES__`\n",
    "            \"\"\".format(self.project_id, dataset_name))\n",
    "        \n",
    "        return query_job.result()\n",
    "        \n",
    "    def delete_table(self, table_name, dataset_name='netfonds_data'):\n",
    "        table_ref = self.client.dataset(dataset_name).table(table_name)\n",
    "        self.client.delete_table(table_ref)  # API request\n",
    "        \n",
    "\n",
    "BQS = BigQuerySession(CREDS_DIR='../data/credentials/quantum-fusion-233713-5ec9fa7a9e62.json')"
   ]
  },
  {
   "cell_type": "code",
   "execution_count": 5,
   "metadata": {},
   "outputs": [],
   "source": [
    "# For this sample, the table must already exist and have a defined schema\n",
    "dataset_id = 'netfonds_data'  # replace with your dataset ID\n",
    "table_id = 'test'  # replace with your table ID\n",
    "table_ref = client.dataset(dataset_id).table(table_id)\n",
    "table = client.get_table(table_ref)  # API request\n",
    "\n",
    "for _ in range(10):\n",
    "    ex_dt = dt.datetime.now().strftime('%Y-%m-%d %H:%M:%S.%f')\n",
    "    rows_to_insert = [\n",
    "        {\"DATE\": ex_dt, \"TEST\": chr(random.randint(0, 1000))}\n",
    "    ]\n",
    "    errors = client.insert_rows(table, rows_to_insert)  # API request\n",
    "    assert errors == []\n",
    "    time.sleep(0.2)"
   ]
  },
  {
   "cell_type": "code",
   "execution_count": null,
   "metadata": {},
   "outputs": [],
   "source": []
  }
 ],
 "metadata": {
  "kernelspec": {
   "display_name": "Python 3",
   "language": "python",
   "name": "python3"
  },
  "language_info": {
   "codemirror_mode": {
    "name": "ipython",
    "version": 3
   },
   "file_extension": ".py",
   "mimetype": "text/x-python",
   "name": "python",
   "nbconvert_exporter": "python",
   "pygments_lexer": "ipython3",
   "version": "3.8.2"
  }
 },
 "nbformat": 4,
 "nbformat_minor": 4
}
